{
 "cells": [
  {
   "cell_type": "code",
   "execution_count": null,
   "metadata": {},
   "outputs": [],
   "source": [
    "# Open the file in read mode\n",
    "with open('all.txt', 'r') as file:\n",
    "    # Read the contents of the file\n",
    "    text = file.read()"
   ]
  },
  {
   "cell_type": "code",
   "execution_count": null,
   "metadata": {},
   "outputs": [],
   "source": [
    "import os\n",
    "from crewai import Agent, Task, Process, Crew\n",
    "\n",
    "import ollama \n",
    "# from langchain.agents import initialize_agent\n",
    "from langchain.llms.ollama import Ollama\n",
    "\n",
    "from langchain.llms import OpenAI, Ollama\n",
    "from langchain_openai import ChatOpenAI\n",
    "\n",
    "\n",
    "import os \n",
    "os.environ[\"OPENAI_API_KEY\"] = \"sk-xyz\"\n",
    "\n",
    "llm = ChatOpenAI(model_name=\"gpt-4o-mini\", temperature=0.1)\n",
    "embeddings=Ollama(model=\"nomic-embed-text:latest\")\n",
    "\n",
    "from interpreter import interpreter\n",
    "interpreter.llm.model = ChatOpenAI(model_name=\"gpt-4o-mini\", temperature=0.1)\n",
    "interpreter.llm.embedding=\"nomic-embed-text:latest\"\n",
    "\n",
    "\n",
    "# llm = Ollama(model=\"qwen2.5:0.5b \", verbose = True)\n",
    "# embeddings=Ollama(model=\"nomic-embed-text:latest\")\n",
    "\n",
    "# from interpreter import interpreter\n",
    "# interpreter.llm.max_tokens = 8196\n",
    "# interpreter.llm.context_window = 128000\n",
    "# interpreter.auto_run = True\n",
    "# interpreter.llm.model = \"qwen2.5:0.5b \"\n",
    "# interpreter.llm.embedding=\"nomic-embed-text:latest\""
   ]
  },
  {
   "cell_type": "code",
   "execution_count": null,
   "metadata": {},
   "outputs": [],
   "source": [
    "def summary_agent(text):\n",
    "    code_analyst = Agent(\n",
    "        role='Transcript Summarizer',\n",
    "        goal=f\"To efficiently and accurately summarize transcripts by analysing the content and make it subject specific\",\n",
    "        backstory=\"This agent is a seasoned summarizer.This agent should be capable of reading and understanding the given text, extracting key points, and summarizing them in a coherent, concise manner. Their expertise lies in dissecting the complex methdology and technical information presented and generate a succient summary.\",\n",
    "        verbose=True,\n",
    "        allow_delegation=False,\n",
    "        llm=llm\n",
    "    )\n",
    "\n",
    "    analyse_code = Task(\n",
    "        description=\"\"\"This agent should be capable of reading and understanding the given text, extracting key points, and summarizing them in a coherent, concise manner for anyone to understand\n",
    "        text:{text}\n",
    "        DONOT USE ANY ACRONYMNS, ABBREVIATIONS, EXPLAIN EVERYTHING IN THE SIMPLEST LANGUGAE TO A PROGRAM MANAGER\n",
    "        IF THERE ARE ANY EQUATIONS PROVIDE THEM IN A PROPER FORMAT AND EXPLAIN THEM\n",
    "        \"\"\",\n",
    "        expected_output=f\"\"\"\n",
    "        Detailed summary of the technical and scientific research text provided targeted for a buisness analyst to understand in the most simplest words.IF THERE ARE ANY EQUATIONS PROVIDE THEM IN A PROPER FORMAT AND EXPLAIN THEM\n",
    "        \"\"\",\n",
    "        agent=code_analyst\n",
    "    )\n",
    "\n",
    "    crew = Crew(\n",
    "        agents=[code_analyst],\n",
    "        tasks=[analyse_code],\n",
    "        manager_llm=llm,\n",
    "        memory=True,\n",
    "        embedder={\n",
    "            \"provider\": \"ollama\",\n",
    "            \"config\": {\n",
    "                \"model\": 'nomic-embed-text'\n",
    "            }\n",
    "        }\n",
    "    )\n",
    "\n",
    "    inputs = {\"text\": text}\n",
    "    return crew.kickoff(inputs=inputs)\n"
   ]
  },
  {
   "cell_type": "code",
   "execution_count": null,
   "metadata": {},
   "outputs": [],
   "source": [
    "summary=summary_agent(text)"
   ]
  },
  {
   "cell_type": "code",
   "execution_count": null,
   "metadata": {},
   "outputs": [],
   "source": []
  }
 ],
 "metadata": {
  "kernelspec": {
   "display_name": "Python 3 (ipykernel)",
   "language": "python",
   "name": "python3"
  },
  "language_info": {
   "codemirror_mode": {
    "name": "ipython",
    "version": 3
   },
   "file_extension": ".py",
   "mimetype": "text/x-python",
   "name": "python",
   "nbconvert_exporter": "python",
   "pygments_lexer": "ipython3",
   "version": "3.11.8"
  }
 },
 "nbformat": 4,
 "nbformat_minor": 4
}
